{
 "cells": [
  {
   "cell_type": "code",
   "execution_count": 1,
   "metadata": {},
   "outputs": [
    {
     "name": "stdout",
     "output_type": "stream",
     "text": [
      "Collecting hopsworks\n",
      "  Using cached hopsworks-4.1.8-py3-none-any.whl (646 kB)\n",
      "Requirement already satisfied: avro==1.11.3 in /opt/anaconda3/lib/python3.8/site-packages (from hopsworks) (1.11.3)\n",
      "Requirement already satisfied: hopsworks_aiomysql[sa]==0.2.1 in /opt/anaconda3/lib/python3.8/site-packages (from hopsworks) (0.2.1)\n",
      "Requirement already satisfied: PyMySQL[rsa] in /opt/anaconda3/lib/python3.8/site-packages (from hopsworks) (1.1.1)\n",
      "Requirement already satisfied: tqdm in /opt/anaconda3/lib/python3.8/site-packages (from hopsworks) (4.56.0)\n",
      "Collecting pyjks\n",
      "  Using cached pyjks-20.0.0-py2.py3-none-any.whl (45 kB)\n",
      "Requirement already satisfied: requests in /opt/anaconda3/lib/python3.8/site-packages (from hopsworks) (2.31.0)\n",
      "Requirement already satisfied: furl in /opt/anaconda3/lib/python3.8/site-packages (from hopsworks) (2.1.3)\n",
      "Requirement already satisfied: pandas<2.2.0 in /opt/anaconda3/lib/python3.8/site-packages (from hopsworks) (1.0.5)\n",
      "Requirement already satisfied: packaging in /opt/anaconda3/lib/python3.8/site-packages (from hopsworks) (20.4)\n",
      "Requirement already satisfied: protobuf<5.0.0,>=4.25.4 in /opt/anaconda3/lib/python3.8/site-packages (from hopsworks) (4.25.6)\n",
      "Requirement already satisfied: tzlocal in /opt/anaconda3/lib/python3.8/site-packages (from hopsworks) (5.2)\n",
      "Requirement already satisfied: boto3 in /opt/anaconda3/lib/python3.8/site-packages (from hopsworks) (1.36.11)\n",
      "Collecting pyhumps==1.6.1\n",
      "  Using cached pyhumps-1.6.1-py3-none-any.whl (5.0 kB)\n",
      "Requirement already satisfied: sqlalchemy in /opt/anaconda3/lib/python3.8/site-packages (from hopsworks) (1.3.18)\n",
      "Requirement already satisfied: fsspec in /opt/anaconda3/lib/python3.8/site-packages (from hopsworks) (0.7.4)\n",
      "Requirement already satisfied: mock in /opt/anaconda3/lib/python3.8/site-packages (from hopsworks) (4.0.2)\n",
      "Requirement already satisfied: retrying in /opt/anaconda3/lib/python3.8/site-packages (from hopsworks) (1.3.3)\n",
      "Requirement already satisfied: opensearch-py<=2.4.2,>=1.1.0 in /opt/anaconda3/lib/python3.8/site-packages (from hopsworks) (2.4.2)\n",
      "Collecting grpcio<2.0.0,>=1.49.1\n",
      "  Using cached grpcio-1.70.0.tar.gz (12.8 MB)\n",
      "Requirement already satisfied: cryptography; extra == \"rsa\" in /opt/anaconda3/lib/python3.8/site-packages (from PyMySQL[rsa]->hopsworks) (2.9.2)\n",
      "Collecting javaobj-py3\n",
      "  Using cached javaobj_py3-0.4.4-py2.py3-none-any.whl (57 kB)\n",
      "Collecting pyasn1-modules\n",
      "  Using cached pyasn1_modules-0.4.1-py3-none-any.whl (181 kB)\n",
      "Collecting pycryptodomex\n",
      "  Using cached pycryptodomex-3.21.0-cp36-abi3-macosx_10_9_x86_64.whl (1.6 MB)\n",
      "Collecting pyasn1>=0.3.5\n",
      "  Using cached pyasn1-0.6.1-py3-none-any.whl (83 kB)\n",
      "Processing /Users/shankar/Library/Caches/pip/wheels/d1/d8/e3/c2de52855d46f9c708b45a0159f2cfa1c2c72ae7179ea6289b/twofish-0.3.0-cp38-cp38-macosx_10_9_x86_64.whl\n",
      "Requirement already satisfied: idna<4,>=2.5 in /opt/anaconda3/lib/python3.8/site-packages (from requests->hopsworks) (2.10)\n",
      "Requirement already satisfied: certifi>=2017.4.17 in /opt/anaconda3/lib/python3.8/site-packages (from requests->hopsworks) (2020.6.20)\n",
      "Requirement already satisfied: urllib3<3,>=1.21.1 in /opt/anaconda3/lib/python3.8/site-packages (from requests->hopsworks) (1.26.6)\n",
      "Requirement already satisfied: charset-normalizer<4,>=2 in /opt/anaconda3/lib/python3.8/site-packages (from requests->hopsworks) (3.4.1)\n",
      "Requirement already satisfied: six>=1.8.0 in /opt/anaconda3/lib/python3.8/site-packages (from furl->hopsworks) (1.15.0)\n",
      "Requirement already satisfied: orderedmultidict>=1.0.1 in /opt/anaconda3/lib/python3.8/site-packages (from furl->hopsworks) (1.0.1)\n",
      "Requirement already satisfied: numpy>=1.13.3 in /opt/anaconda3/lib/python3.8/site-packages (from pandas<2.2.0->hopsworks) (1.18.5)\n",
      "Requirement already satisfied: pytz>=2017.2 in /opt/anaconda3/lib/python3.8/site-packages (from pandas<2.2.0->hopsworks) (2020.1)\n",
      "Requirement already satisfied: python-dateutil>=2.6.1 in /opt/anaconda3/lib/python3.8/site-packages (from pandas<2.2.0->hopsworks) (2.8.1)\n",
      "Requirement already satisfied: pyparsing>=2.0.2 in /opt/anaconda3/lib/python3.8/site-packages (from packaging->hopsworks) (2.4.7)\n",
      "Requirement already satisfied: backports.zoneinfo; python_version < \"3.9\" in /opt/anaconda3/lib/python3.8/site-packages (from tzlocal->hopsworks) (0.2.1)\n",
      "Requirement already satisfied: botocore<1.37.0,>=1.36.11 in /opt/anaconda3/lib/python3.8/site-packages (from boto3->hopsworks) (1.36.11)\n",
      "Requirement already satisfied: jmespath<2.0.0,>=0.7.1 in /opt/anaconda3/lib/python3.8/site-packages (from boto3->hopsworks) (1.0.1)\n",
      "Requirement already satisfied: s3transfer<0.12.0,>=0.11.0 in /opt/anaconda3/lib/python3.8/site-packages (from boto3->hopsworks) (0.11.2)\n",
      "Requirement already satisfied: cffi!=1.11.3,>=1.8 in /opt/anaconda3/lib/python3.8/site-packages (from cryptography; extra == \"rsa\"->PyMySQL[rsa]->hopsworks) (1.14.0)\n",
      "Requirement already satisfied: pycparser in /opt/anaconda3/lib/python3.8/site-packages (from cffi!=1.11.3,>=1.8->cryptography; extra == \"rsa\"->PyMySQL[rsa]->hopsworks) (2.20)\n",
      "Building wheels for collected packages: grpcio\n",
      "  Building wheel for grpcio (setup.py) ... \u001b[?25l|^C\n",
      "\u001b[?25canceled\n",
      "\u001b[31mERROR: Operation cancelled by user\u001b[0m\n"
     ]
    }
   ],
   "source": [
    "!pip install hopsworks"
   ]
  },
  {
   "cell_type": "code",
   "execution_count": 2,
   "metadata": {},
   "outputs": [],
   "source": [
    "import pandas as pd"
   ]
  },
  {
   "cell_type": "code",
   "execution_count": 6,
   "metadata": {},
   "outputs": [
    {
     "data": {
      "text/html": [
       "<div>\n",
       "<style scoped>\n",
       "    .dataframe tbody tr th:only-of-type {\n",
       "        vertical-align: middle;\n",
       "    }\n",
       "\n",
       "    .dataframe tbody tr th {\n",
       "        vertical-align: top;\n",
       "    }\n",
       "\n",
       "    .dataframe thead th {\n",
       "        text-align: right;\n",
       "    }\n",
       "</style>\n",
       "<table border=\"1\" class=\"dataframe\">\n",
       "  <thead>\n",
       "    <tr style=\"text-align: right;\">\n",
       "      <th></th>\n",
       "      <th>truck_id</th>\n",
       "      <th>truck_age</th>\n",
       "      <th>load_capacity_pounds</th>\n",
       "      <th>mileage_mpg</th>\n",
       "      <th>fuel_type</th>\n",
       "    </tr>\n",
       "  </thead>\n",
       "  <tbody>\n",
       "    <tr>\n",
       "      <th>0</th>\n",
       "      <td>42302347</td>\n",
       "      <td>10</td>\n",
       "      <td>3000.0</td>\n",
       "      <td>17</td>\n",
       "      <td>gas</td>\n",
       "    </tr>\n",
       "    <tr>\n",
       "      <th>1</th>\n",
       "      <td>27867488</td>\n",
       "      <td>14</td>\n",
       "      <td>10000.0</td>\n",
       "      <td>22</td>\n",
       "      <td>diesel</td>\n",
       "    </tr>\n",
       "    <tr>\n",
       "      <th>2</th>\n",
       "      <td>13927774</td>\n",
       "      <td>8</td>\n",
       "      <td>10000.0</td>\n",
       "      <td>19</td>\n",
       "      <td>gas</td>\n",
       "    </tr>\n",
       "    <tr>\n",
       "      <th>3</th>\n",
       "      <td>69577118</td>\n",
       "      <td>8</td>\n",
       "      <td>20000.0</td>\n",
       "      <td>19</td>\n",
       "      <td>gas</td>\n",
       "    </tr>\n",
       "    <tr>\n",
       "      <th>4</th>\n",
       "      <td>28650047</td>\n",
       "      <td>10</td>\n",
       "      <td>4000.0</td>\n",
       "      <td>21</td>\n",
       "      <td>diesel</td>\n",
       "    </tr>\n",
       "    <tr>\n",
       "      <th>5</th>\n",
       "      <td>29303248</td>\n",
       "      <td>9</td>\n",
       "      <td>4000.0</td>\n",
       "      <td>15</td>\n",
       "      <td>gas</td>\n",
       "    </tr>\n",
       "    <tr>\n",
       "      <th>6</th>\n",
       "      <td>76304377</td>\n",
       "      <td>8</td>\n",
       "      <td>3000.0</td>\n",
       "      <td>20</td>\n",
       "      <td>diesel</td>\n",
       "    </tr>\n",
       "    <tr>\n",
       "      <th>7</th>\n",
       "      <td>21093078</td>\n",
       "      <td>8</td>\n",
       "      <td>NaN</td>\n",
       "      <td>14</td>\n",
       "      <td>gas</td>\n",
       "    </tr>\n",
       "    <tr>\n",
       "      <th>8</th>\n",
       "      <td>41713749</td>\n",
       "      <td>9</td>\n",
       "      <td>NaN</td>\n",
       "      <td>22</td>\n",
       "      <td>gas</td>\n",
       "    </tr>\n",
       "    <tr>\n",
       "      <th>9</th>\n",
       "      <td>14730346</td>\n",
       "      <td>11</td>\n",
       "      <td>15000.0</td>\n",
       "      <td>20</td>\n",
       "      <td>NaN</td>\n",
       "    </tr>\n",
       "  </tbody>\n",
       "</table>\n",
       "</div>"
      ],
      "text/plain": [
       "   truck_id  truck_age  load_capacity_pounds  mileage_mpg fuel_type\n",
       "0  42302347         10                3000.0           17       gas\n",
       "1  27867488         14               10000.0           22    diesel\n",
       "2  13927774          8               10000.0           19       gas\n",
       "3  69577118          8               20000.0           19       gas\n",
       "4  28650047         10                4000.0           21    diesel\n",
       "5  29303248          9                4000.0           15       gas\n",
       "6  76304377          8                3000.0           20    diesel\n",
       "7  21093078          8                   NaN           14       gas\n",
       "8  41713749          9                   NaN           22       gas\n",
       "9  14730346         11               15000.0           20       NaN"
      ]
     },
     "execution_count": 6,
     "metadata": {},
     "output_type": "execute_result"
    }
   ],
   "source": [
    "trucks_df= pd.read_csv(\"/Users/shankar/Downloads/Data/Training_data/trucks_table.csv\")\n",
    "trucks_df.head(10)"
   ]
  },
  {
   "cell_type": "code",
   "execution_count": 7,
   "metadata": {},
   "outputs": [
    {
     "data": {
      "text/plain": [
       "truck_id                 0\n",
       "truck_age                0\n",
       "load_capacity_pounds    57\n",
       "mileage_mpg              0\n",
       "fuel_type               40\n",
       "dtype: int64"
      ]
     },
     "execution_count": 7,
     "metadata": {},
     "output_type": "execute_result"
    }
   ],
   "source": [
    "trucks_df.isna().sum()"
   ]
  },
  {
   "cell_type": "code",
   "execution_count": 10,
   "metadata": {},
   "outputs": [],
   "source": [
    "trucks_df['fuel_type']=trucks_df['fuel_type'].fillna('Unknown')"
   ]
  },
  {
   "cell_type": "code",
   "execution_count": 11,
   "metadata": {},
   "outputs": [
    {
     "data": {
      "text/plain": [
       "truck_id                 0\n",
       "truck_age                0\n",
       "load_capacity_pounds    57\n",
       "mileage_mpg              0\n",
       "fuel_type                0\n",
       "dtype: int64"
      ]
     },
     "execution_count": 11,
     "metadata": {},
     "output_type": "execute_result"
    }
   ],
   "source": [
    "trucks_df.isna().sum()"
   ]
  },
  {
   "cell_type": "code",
   "execution_count": 12,
   "metadata": {},
   "outputs": [],
   "source": [
    "trucks_df['event_time']=pd.to_datetime(\"2023-08-23\")"
   ]
  },
  {
   "cell_type": "code",
   "execution_count": 14,
   "metadata": {},
   "outputs": [],
   "source": [
    "trucks_df=trucks_df.sort_values(['event_time','truck_id'])"
   ]
  },
  {
   "cell_type": "code",
   "execution_count": 17,
   "metadata": {},
   "outputs": [
    {
     "data": {
      "text/html": [
       "<div>\n",
       "<style scoped>\n",
       "    .dataframe tbody tr th:only-of-type {\n",
       "        vertical-align: middle;\n",
       "    }\n",
       "\n",
       "    .dataframe tbody tr th {\n",
       "        vertical-align: top;\n",
       "    }\n",
       "\n",
       "    .dataframe thead th {\n",
       "        text-align: right;\n",
       "    }\n",
       "</style>\n",
       "<table border=\"1\" class=\"dataframe\">\n",
       "  <thead>\n",
       "    <tr style=\"text-align: right;\">\n",
       "      <th></th>\n",
       "      <th>truck_id</th>\n",
       "      <th>truck_age</th>\n",
       "      <th>load_capacity_pounds</th>\n",
       "      <th>mileage_mpg</th>\n",
       "      <th>fuel_type</th>\n",
       "    </tr>\n",
       "  </thead>\n",
       "  <tbody>\n",
       "  </tbody>\n",
       "</table>\n",
       "</div>"
      ],
      "text/plain": [
       "Empty DataFrame\n",
       "Columns: [truck_id, truck_age, load_capacity_pounds, mileage_mpg, fuel_type]\n",
       "Index: []"
      ]
     },
     "execution_count": 17,
     "metadata": {},
     "output_type": "execute_result"
    }
   ],
   "source": [
    "trucks_df[trucks_df.duplicated(subset=['truck_id'])]"
   ]
  },
  {
   "cell_type": "code",
   "execution_count": 4,
   "metadata": {},
   "outputs": [
    {
     "data": {
      "text/html": [
       "<div>\n",
       "<style scoped>\n",
       "    .dataframe tbody tr th:only-of-type {\n",
       "        vertical-align: middle;\n",
       "    }\n",
       "\n",
       "    .dataframe tbody tr th {\n",
       "        vertical-align: top;\n",
       "    }\n",
       "\n",
       "    .dataframe thead th {\n",
       "        text-align: right;\n",
       "    }\n",
       "</style>\n",
       "<table border=\"1\" class=\"dataframe\">\n",
       "  <thead>\n",
       "    <tr style=\"text-align: right;\">\n",
       "      <th></th>\n",
       "      <th>route_id</th>\n",
       "      <th>date</th>\n",
       "      <th>hour</th>\n",
       "      <th>no_of_vehicles</th>\n",
       "      <th>accident</th>\n",
       "    </tr>\n",
       "  </thead>\n",
       "  <tbody>\n",
       "    <tr>\n",
       "      <th>0</th>\n",
       "      <td>R-ada2a391</td>\n",
       "      <td>2019-01-01</td>\n",
       "      <td>0</td>\n",
       "      <td>669.0</td>\n",
       "      <td>0</td>\n",
       "    </tr>\n",
       "    <tr>\n",
       "      <th>1</th>\n",
       "      <td>R-ada2a391</td>\n",
       "      <td>2019-01-01</td>\n",
       "      <td>100</td>\n",
       "      <td>628.0</td>\n",
       "      <td>0</td>\n",
       "    </tr>\n",
       "    <tr>\n",
       "      <th>2</th>\n",
       "      <td>R-ada2a391</td>\n",
       "      <td>2019-01-01</td>\n",
       "      <td>200</td>\n",
       "      <td>516.0</td>\n",
       "      <td>0</td>\n",
       "    </tr>\n",
       "    <tr>\n",
       "      <th>3</th>\n",
       "      <td>R-ada2a391</td>\n",
       "      <td>2019-01-01</td>\n",
       "      <td>300</td>\n",
       "      <td>582.0</td>\n",
       "      <td>0</td>\n",
       "    </tr>\n",
       "    <tr>\n",
       "      <th>4</th>\n",
       "      <td>R-ada2a391</td>\n",
       "      <td>2019-01-01</td>\n",
       "      <td>400</td>\n",
       "      <td>564.0</td>\n",
       "      <td>0</td>\n",
       "    </tr>\n",
       "    <tr>\n",
       "      <th>5</th>\n",
       "      <td>R-ada2a391</td>\n",
       "      <td>2019-01-01</td>\n",
       "      <td>500</td>\n",
       "      <td>564.0</td>\n",
       "      <td>0</td>\n",
       "    </tr>\n",
       "    <tr>\n",
       "      <th>6</th>\n",
       "      <td>R-ada2a391</td>\n",
       "      <td>2019-01-01</td>\n",
       "      <td>600</td>\n",
       "      <td>654.0</td>\n",
       "      <td>0</td>\n",
       "    </tr>\n",
       "    <tr>\n",
       "      <th>7</th>\n",
       "      <td>R-ada2a391</td>\n",
       "      <td>2019-01-01</td>\n",
       "      <td>700</td>\n",
       "      <td>1966.0</td>\n",
       "      <td>0</td>\n",
       "    </tr>\n",
       "    <tr>\n",
       "      <th>8</th>\n",
       "      <td>R-ada2a391</td>\n",
       "      <td>2019-01-01</td>\n",
       "      <td>800</td>\n",
       "      <td>2778.0</td>\n",
       "      <td>0</td>\n",
       "    </tr>\n",
       "    <tr>\n",
       "      <th>9</th>\n",
       "      <td>R-ada2a391</td>\n",
       "      <td>2019-01-01</td>\n",
       "      <td>900</td>\n",
       "      <td>2271.0</td>\n",
       "      <td>0</td>\n",
       "    </tr>\n",
       "  </tbody>\n",
       "</table>\n",
       "</div>"
      ],
      "text/plain": [
       "     route_id        date  hour  no_of_vehicles  accident\n",
       "0  R-ada2a391  2019-01-01     0           669.0         0\n",
       "1  R-ada2a391  2019-01-01   100           628.0         0\n",
       "2  R-ada2a391  2019-01-01   200           516.0         0\n",
       "3  R-ada2a391  2019-01-01   300           582.0         0\n",
       "4  R-ada2a391  2019-01-01   400           564.0         0\n",
       "5  R-ada2a391  2019-01-01   500           564.0         0\n",
       "6  R-ada2a391  2019-01-01   600           654.0         0\n",
       "7  R-ada2a391  2019-01-01   700          1966.0         0\n",
       "8  R-ada2a391  2019-01-01   800          2778.0         0\n",
       "9  R-ada2a391  2019-01-01   900          2271.0         0"
      ]
     },
     "execution_count": 4,
     "metadata": {},
     "output_type": "execute_result"
    }
   ],
   "source": [
    "traffic_df= pd.read_csv(\"/Users/shankar/Downloads/Data/Training_data/traffic_table.csv\")\n",
    "traffic_df.head(10)"
   ]
  },
  {
   "cell_type": "code",
   "execution_count": 5,
   "metadata": {},
   "outputs": [
    {
     "name": "stdout",
     "output_type": "stream",
     "text": [
      "<class 'pandas.core.frame.DataFrame'>\n",
      "RangeIndex: 2597913 entries, 0 to 2597912\n",
      "Data columns (total 5 columns):\n",
      " #   Column          Dtype  \n",
      "---  ------          -----  \n",
      " 0   route_id        object \n",
      " 1   date            object \n",
      " 2   hour            int64  \n",
      " 3   no_of_vehicles  float64\n",
      " 4   accident        int64  \n",
      "dtypes: float64(1), int64(2), object(2)\n",
      "memory usage: 99.1+ MB\n"
     ]
    }
   ],
   "source": [
    "traffic_df.info()"
   ]
  },
  {
   "cell_type": "code",
   "execution_count": 8,
   "metadata": {},
   "outputs": [
    {
     "data": {
      "text/plain": [
       "route_id             0\n",
       "date                 0\n",
       "hour                 0\n",
       "no_of_vehicles    1152\n",
       "accident             0\n",
       "dtype: int64"
      ]
     },
     "execution_count": 8,
     "metadata": {},
     "output_type": "execute_result"
    }
   ],
   "source": [
    "traffic_df.isna().sum()"
   ]
  },
  {
   "cell_type": "code",
   "execution_count": 9,
   "metadata": {},
   "outputs": [],
   "source": [
    "traffic_df['date'] = pd.to_datetime(traffic_df['date'])"
   ]
  },
  {
   "cell_type": "code",
   "execution_count": 10,
   "metadata": {},
   "outputs": [
    {
     "name": "stdout",
     "output_type": "stream",
     "text": [
      "<class 'pandas.core.frame.DataFrame'>\n",
      "RangeIndex: 2597913 entries, 0 to 2597912\n",
      "Data columns (total 5 columns):\n",
      " #   Column          Dtype         \n",
      "---  ------          -----         \n",
      " 0   route_id        object        \n",
      " 1   date            datetime64[ns]\n",
      " 2   hour            int64         \n",
      " 3   no_of_vehicles  float64       \n",
      " 4   accident        int64         \n",
      "dtypes: datetime64[ns](1), float64(1), int64(2), object(1)\n",
      "memory usage: 99.1+ MB\n"
     ]
    }
   ],
   "source": [
    "traffic_df.info()"
   ]
  },
  {
   "cell_type": "code",
   "execution_count": 21,
   "metadata": {},
   "outputs": [
    {
     "data": {
      "text/plain": [
       "1305"
      ]
     },
     "execution_count": 21,
     "metadata": {},
     "output_type": "execute_result"
    }
   ],
   "source": [
    "traffic_df.duplicated(subset=['route_id','date','hour']).sum()"
   ]
  },
  {
   "cell_type": "code",
   "execution_count": 12,
   "metadata": {},
   "outputs": [
    {
     "data": {
      "text/html": [
       "<div>\n",
       "<style scoped>\n",
       "    .dataframe tbody tr th:only-of-type {\n",
       "        vertical-align: middle;\n",
       "    }\n",
       "\n",
       "    .dataframe tbody tr th {\n",
       "        vertical-align: top;\n",
       "    }\n",
       "\n",
       "    .dataframe thead th {\n",
       "        text-align: right;\n",
       "    }\n",
       "</style>\n",
       "<table border=\"1\" class=\"dataframe\">\n",
       "  <thead>\n",
       "    <tr style=\"text-align: right;\">\n",
       "      <th></th>\n",
       "      <th>route_id</th>\n",
       "      <th>date</th>\n",
       "      <th>hour</th>\n",
       "      <th>no_of_vehicles</th>\n",
       "      <th>accident</th>\n",
       "    </tr>\n",
       "  </thead>\n",
       "  <tbody>\n",
       "    <tr>\n",
       "      <th>count</th>\n",
       "      <td>2597913</td>\n",
       "      <td>2597913</td>\n",
       "      <td>2.597913e+06</td>\n",
       "      <td>2.596761e+06</td>\n",
       "      <td>2.597913e+06</td>\n",
       "    </tr>\n",
       "    <tr>\n",
       "      <th>unique</th>\n",
       "      <td>2352</td>\n",
       "      <td>46</td>\n",
       "      <td>NaN</td>\n",
       "      <td>NaN</td>\n",
       "      <td>NaN</td>\n",
       "    </tr>\n",
       "    <tr>\n",
       "      <th>top</th>\n",
       "      <td>R-48cfa4e6</td>\n",
       "      <td>2019-02-08 00:00:00</td>\n",
       "      <td>NaN</td>\n",
       "      <td>NaN</td>\n",
       "      <td>NaN</td>\n",
       "    </tr>\n",
       "    <tr>\n",
       "      <th>freq</th>\n",
       "      <td>1148</td>\n",
       "      <td>56488</td>\n",
       "      <td>NaN</td>\n",
       "      <td>NaN</td>\n",
       "      <td>NaN</td>\n",
       "    </tr>\n",
       "    <tr>\n",
       "      <th>first</th>\n",
       "      <td>NaN</td>\n",
       "      <td>2019-01-01 00:00:00</td>\n",
       "      <td>NaN</td>\n",
       "      <td>NaN</td>\n",
       "      <td>NaN</td>\n",
       "    </tr>\n",
       "    <tr>\n",
       "      <th>last</th>\n",
       "      <td>NaN</td>\n",
       "      <td>2019-02-15 00:00:00</td>\n",
       "      <td>NaN</td>\n",
       "      <td>NaN</td>\n",
       "      <td>NaN</td>\n",
       "    </tr>\n",
       "    <tr>\n",
       "      <th>mean</th>\n",
       "      <td>NaN</td>\n",
       "      <td>NaN</td>\n",
       "      <td>1.150021e+03</td>\n",
       "      <td>1.566776e+03</td>\n",
       "      <td>5.320848e-02</td>\n",
       "    </tr>\n",
       "    <tr>\n",
       "      <th>std</th>\n",
       "      <td>NaN</td>\n",
       "      <td>NaN</td>\n",
       "      <td>6.922211e+02</td>\n",
       "      <td>8.959424e+02</td>\n",
       "      <td>2.244490e-01</td>\n",
       "    </tr>\n",
       "    <tr>\n",
       "      <th>min</th>\n",
       "      <td>NaN</td>\n",
       "      <td>NaN</td>\n",
       "      <td>0.000000e+00</td>\n",
       "      <td>1.000000e+02</td>\n",
       "      <td>0.000000e+00</td>\n",
       "    </tr>\n",
       "    <tr>\n",
       "      <th>25%</th>\n",
       "      <td>NaN</td>\n",
       "      <td>NaN</td>\n",
       "      <td>6.000000e+02</td>\n",
       "      <td>6.060000e+02</td>\n",
       "      <td>0.000000e+00</td>\n",
       "    </tr>\n",
       "    <tr>\n",
       "      <th>50%</th>\n",
       "      <td>NaN</td>\n",
       "      <td>NaN</td>\n",
       "      <td>1.200000e+03</td>\n",
       "      <td>1.969000e+03</td>\n",
       "      <td>0.000000e+00</td>\n",
       "    </tr>\n",
       "    <tr>\n",
       "      <th>75%</th>\n",
       "      <td>NaN</td>\n",
       "      <td>NaN</td>\n",
       "      <td>1.800000e+03</td>\n",
       "      <td>2.326000e+03</td>\n",
       "      <td>0.000000e+00</td>\n",
       "    </tr>\n",
       "    <tr>\n",
       "      <th>max</th>\n",
       "      <td>NaN</td>\n",
       "      <td>NaN</td>\n",
       "      <td>2.300000e+03</td>\n",
       "      <td>3.636000e+03</td>\n",
       "      <td>1.000000e+00</td>\n",
       "    </tr>\n",
       "  </tbody>\n",
       "</table>\n",
       "</div>"
      ],
      "text/plain": [
       "          route_id                 date          hour  no_of_vehicles  \\\n",
       "count      2597913              2597913  2.597913e+06    2.596761e+06   \n",
       "unique        2352                   46           NaN             NaN   \n",
       "top     R-48cfa4e6  2019-02-08 00:00:00           NaN             NaN   \n",
       "freq          1148                56488           NaN             NaN   \n",
       "first          NaN  2019-01-01 00:00:00           NaN             NaN   \n",
       "last           NaN  2019-02-15 00:00:00           NaN             NaN   \n",
       "mean           NaN                  NaN  1.150021e+03    1.566776e+03   \n",
       "std            NaN                  NaN  6.922211e+02    8.959424e+02   \n",
       "min            NaN                  NaN  0.000000e+00    1.000000e+02   \n",
       "25%            NaN                  NaN  6.000000e+02    6.060000e+02   \n",
       "50%            NaN                  NaN  1.200000e+03    1.969000e+03   \n",
       "75%            NaN                  NaN  1.800000e+03    2.326000e+03   \n",
       "max            NaN                  NaN  2.300000e+03    3.636000e+03   \n",
       "\n",
       "            accident  \n",
       "count   2.597913e+06  \n",
       "unique           NaN  \n",
       "top              NaN  \n",
       "freq             NaN  \n",
       "first            NaN  \n",
       "last             NaN  \n",
       "mean    5.320848e-02  \n",
       "std     2.244490e-01  \n",
       "min     0.000000e+00  \n",
       "25%     0.000000e+00  \n",
       "50%     0.000000e+00  \n",
       "75%     0.000000e+00  \n",
       "max     1.000000e+00  "
      ]
     },
     "execution_count": 12,
     "metadata": {},
     "output_type": "execute_result"
    }
   ],
   "source": [
    "traffic_df.describe(include='all')"
   ]
  },
  {
   "cell_type": "code",
   "execution_count": null,
   "metadata": {},
   "outputs": [],
   "source": []
  }
 ],
 "metadata": {
  "kernelspec": {
   "display_name": "base",
   "language": "python",
   "name": "python3"
  },
  "language_info": {
   "codemirror_mode": {
    "name": "ipython",
    "version": 3
   },
   "file_extension": ".py",
   "mimetype": "text/x-python",
   "name": "python",
   "nbconvert_exporter": "python",
   "pygments_lexer": "ipython3",
   "version": "3.8.3"
  }
 },
 "nbformat": 4,
 "nbformat_minor": 2
}
